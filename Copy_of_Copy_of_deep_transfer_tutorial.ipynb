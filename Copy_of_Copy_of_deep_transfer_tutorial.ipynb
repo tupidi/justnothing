{
  "nbformat": 4,
  "nbformat_minor": 0,
  "metadata": {
    "colab": {
      "provenance": [],
      "gpuType": "T4"
    },
    "kernelspec": {
      "display_name": "Python 3",
      "name": "python3"
    },
    "language_info": {
      "codemirror_mode": {
        "name": "ipython",
        "version": 3
      },
      "file_extension": ".py",
      "mimetype": "text/x-python",
      "name": "python",
      "nbconvert_exporter": "python",
      "pygments_lexer": "ipython3",
      "version": "3.8.5"
    },
    "accelerator": "GPU"
  },
  "cells": [
    {
      "cell_type": "markdown",
      "metadata": {
        "id": "BOlo4Ctmtm4p"
      },
      "source": [
        "# Deep transfer learning tutorial\n",
        "This notebook contains two popular paradigms of transfer learning: **Finetune** and **Domain adaptation**.\n",
        "Since most of the codes are shared by them, we show how they work in just one single notebook.\n",
        "I think that transfer learning and domain adaptation are both easy, and there's no need to create some library or packages for this simple purpose, which only makes things difficult.\n",
        "The purpose of this note book is we **don't even need to install a library or package** to train a domain adaptation or finetune model."
      ]
    },
    {
      "cell_type": "markdown",
      "metadata": {
        "id": "9P9av5SNtm4r"
      },
      "source": [
        "## Preparation"
      ]
    },
    {
      "cell_type": "markdown",
      "metadata": {
        "id": "Mcjr5uA7tm4r"
      },
      "source": [
        "First of all, install `pytorch` and `torchvision`.\n",
        "Skip this step if you already installed."
      ]
    },
    {
      "cell_type": "code",
      "metadata": {
        "id": "f3rx2L6hSvGY",
        "colab": {
          "base_uri": "https://localhost:8080/"
        },
        "outputId": "20789bf3-9bb3-46ac-8047-02019a858bb5"
      },
      "source": [
        "!pip install torch torchvision"
      ],
      "execution_count": null,
      "outputs": [
        {
          "output_type": "stream",
          "name": "stdout",
          "text": [
            "Requirement already satisfied: torch in /usr/local/lib/python3.10/dist-packages (2.0.1+cu118)\n",
            "Requirement already satisfied: torchvision in /usr/local/lib/python3.10/dist-packages (0.15.2+cu118)\n",
            "Requirement already satisfied: filelock in /usr/local/lib/python3.10/dist-packages (from torch) (3.12.2)\n",
            "Requirement already satisfied: typing-extensions in /usr/local/lib/python3.10/dist-packages (from torch) (4.7.1)\n",
            "Requirement already satisfied: sympy in /usr/local/lib/python3.10/dist-packages (from torch) (1.11.1)\n",
            "Requirement already satisfied: networkx in /usr/local/lib/python3.10/dist-packages (from torch) (3.1)\n",
            "Requirement already satisfied: jinja2 in /usr/local/lib/python3.10/dist-packages (from torch) (3.1.2)\n",
            "Requirement already satisfied: triton==2.0.0 in /usr/local/lib/python3.10/dist-packages (from torch) (2.0.0)\n",
            "Requirement already satisfied: cmake in /usr/local/lib/python3.10/dist-packages (from triton==2.0.0->torch) (3.25.2)\n",
            "Requirement already satisfied: lit in /usr/local/lib/python3.10/dist-packages (from triton==2.0.0->torch) (16.0.6)\n",
            "Requirement already satisfied: numpy in /usr/local/lib/python3.10/dist-packages (from torchvision) (1.22.4)\n",
            "Requirement already satisfied: requests in /usr/local/lib/python3.10/dist-packages (from torchvision) (2.27.1)\n",
            "Requirement already satisfied: pillow!=8.3.*,>=5.3.0 in /usr/local/lib/python3.10/dist-packages (from torchvision) (8.4.0)\n",
            "Requirement already satisfied: MarkupSafe>=2.0 in /usr/local/lib/python3.10/dist-packages (from jinja2->torch) (2.1.3)\n",
            "Requirement already satisfied: urllib3<1.27,>=1.21.1 in /usr/local/lib/python3.10/dist-packages (from requests->torchvision) (1.26.16)\n",
            "Requirement already satisfied: certifi>=2017.4.17 in /usr/local/lib/python3.10/dist-packages (from requests->torchvision) (2023.5.7)\n",
            "Requirement already satisfied: charset-normalizer~=2.0.0 in /usr/local/lib/python3.10/dist-packages (from requests->torchvision) (2.0.12)\n",
            "Requirement already satisfied: idna<4,>=2.5 in /usr/local/lib/python3.10/dist-packages (from requests->torchvision) (3.4)\n",
            "Requirement already satisfied: mpmath>=0.19 in /usr/local/lib/python3.10/dist-packages (from sympy->torch) (1.3.0)\n"
          ]
        }
      ]
    },
    {
      "cell_type": "markdown",
      "metadata": {
        "id": "qWlAlAeRtm4s"
      },
      "source": [
        "Then, prepare the dataset you need. Here, we wil use the classical **Office-31** dataset.\n",
        "We just need to download it, and then extract it.\n",
        "Skip this step if you already have the data on your disk."
      ]
    },
    {
      "cell_type": "code",
      "source": [
        "from google.colab import drive\n",
        "drive.mount('/content/drive')"
      ],
      "metadata": {
        "colab": {
          "base_uri": "https://localhost:8080/"
        },
        "id": "VOLrUY3XMjYo",
        "outputId": "56d31bf6-a599-4e98-9c6b-25d1788fb2a4"
      },
      "execution_count": null,
      "outputs": [
        {
          "output_type": "stream",
          "name": "stdout",
          "text": [
            "Mounted at /content/drive\n"
          ]
        }
      ]
    },
    {
      "cell_type": "code",
      "source": [
        "import os\n",
        "os.chdir(\"/content/drive/MyDrive/\")"
      ],
      "metadata": {
        "id": "Fj5BvFN9MoGw"
      },
      "execution_count": null,
      "outputs": []
    },
    {
      "cell_type": "code",
      "metadata": {
        "id": "4UCJrNkMtm4s"
      },
      "source": [
        "\n",
        "!unzip office31.zip"
      ],
      "execution_count": null,
      "outputs": []
    },
    {
      "cell_type": "code",
      "source": [
        "import os\n",
        "import random\n",
        "\n",
        "# Define your source directory\n",
        "src_dir = '/content/drive/MyDrive/experiments/cartoonV2'\n",
        "\n",
        "# List the classes in the source directory\n",
        "classes = [d for d in os.listdir(src_dir) if os.path.isdir(os.path.join(src_dir, d))]\n",
        "\n",
        "# Loop through each class\n",
        "for cls in classes:\n",
        "    class_dir = os.path.join(src_dir, cls)\n",
        "\n",
        "    # List all files in the class directory\n",
        "    files = [f for f in os.listdir(class_dir) if os.path.isfile(os.path.join(class_dir, f))]\n",
        "\n",
        "    # Calculate the number of files to remove\n",
        "    num_to_remove = len(files) // 3\n",
        "\n",
        "    # Randomly choose files to remove\n",
        "    files_to_remove = random.sample(files, num_to_remove)\n",
        "\n",
        "    # Remove the chosen files\n",
        "    for file in files_to_remove:\n",
        "        os.remove(os.path.join(class_dir, file))\n",
        "\n",
        "    print(f'Removed {num_to_remove} files from {cls} class')\n"
      ],
      "metadata": {
        "colab": {
          "base_uri": "https://localhost:8080/"
        },
        "id": "XGauquCY9Zvz",
        "outputId": "7a006e3b-67f8-4be5-e6bb-944d2a99fa37"
      },
      "execution_count": null,
      "outputs": [
        {
          "output_type": "stream",
          "name": "stdout",
          "text": [
            "Removed 223 files from jellyfish class\n",
            "Removed 223 files from penguin class\n",
            "Removed 230 files from starfish class\n",
            "Removed 223 files from fish class\n",
            "Removed 237 files from shark class\n"
          ]
        }
      ]
    },
    {
      "cell_type": "markdown",
      "metadata": {
        "id": "xKVY0mi6tm4t"
      },
      "source": [
        "To verify the dataset, we show its structures."
      ]
    },
    {
      "cell_type": "code",
      "metadata": {
        "id": "bpqUe9URtm4t",
        "colab": {
          "base_uri": "https://localhost:8080/"
        },
        "outputId": "8e5b2903-822a-4ca5-9796-dbc1c945ba71"
      },
      "source": [
        "!apt install tree\n",
        "!tree experiments -d 1"
      ],
      "execution_count": null,
      "outputs": [
        {
          "output_type": "stream",
          "name": "stdout",
          "text": [
            "Reading package lists... Done\n",
            "Building dependency tree       \n",
            "Reading state information... Done\n",
            "The following NEW packages will be installed:\n",
            "  tree\n",
            "0 upgraded, 1 newly installed, 0 to remove and 15 not upgraded.\n",
            "Need to get 43.0 kB of archives.\n",
            "After this operation, 115 kB of additional disk space will be used.\n",
            "Get:1 http://archive.ubuntu.com/ubuntu focal/universe amd64 tree amd64 1.8.0-1 [43.0 kB]\n",
            "Fetched 43.0 kB in 1s (65.0 kB/s)\n",
            "Selecting previously unselected package tree.\n",
            "(Reading database ... 123105 files and directories currently installed.)\n",
            "Preparing to unpack .../tree_1.8.0-1_amd64.deb ...\n",
            "Unpacking tree (1.8.0-1) ...\n",
            "Setting up tree (1.8.0-1) ...\n",
            "Processing triggers for man-db (2.9.1-1) ...\n",
            "\u001b[01;34mexperiments\u001b[00m\n",
            "├── \u001b[01;34mcartoonV2\u001b[00m\n",
            "│   ├── \u001b[01;34mfish\u001b[00m\n",
            "│   ├── \u001b[01;34mjellyfish\u001b[00m\n",
            "│   ├── \u001b[01;34mpenguin\u001b[00m\n",
            "│   ├── \u001b[01;34mshark\u001b[00m\n",
            "│   └── \u001b[01;34mstarfish\u001b[00m\n",
            "├── \u001b[01;34mconverted_data_cartoon\u001b[00m\n",
            "├── \u001b[01;34mconverted_data_coral\u001b[00m\n",
            "├── \u001b[01;34mcoralV2\u001b[00m\n",
            "│   ├── \u001b[01;34mfish\u001b[00m\n",
            "│   ├── \u001b[01;34mjellyfish\u001b[00m\n",
            "│   ├── \u001b[01;34mpenguin\u001b[00m\n",
            "│   ├── \u001b[01;34mshark\u001b[00m\n",
            "│   └── \u001b[01;34mstarfish\u001b[00m\n",
            "└── \u001b[01;34mResults\u001b[00m\n",
            "1 [error opening dir]\n",
            "\n",
            "15 directories\n"
          ]
        }
      ]
    },
    {
      "cell_type": "markdown",
      "metadata": {
        "id": "yyP-9VnQtm4t"
      },
      "source": [
        "## Some imports."
      ]
    },
    {
      "cell_type": "code",
      "metadata": {
        "id": "6R098oQTS_TC"
      },
      "source": [
        "import os\n",
        "import torch\n",
        "import torchvision\n",
        "from torchvision import transforms, datasets\n",
        "import torch.nn as nn\n",
        "import time\n",
        "from torchvision import models\n"
      ],
      "execution_count": null,
      "outputs": []
    },
    {
      "cell_type": "markdown",
      "metadata": {
        "id": "K9Ut17hwUDq-"
      },
      "source": [
        "Set the dataset folder, batch size, number of classes, and domain name."
      ]
    },
    {
      "cell_type": "code",
      "metadata": {
        "id": "j4e--IIRU68M"
      },
      "source": [
        "data_folder = 'experiments'\n",
        "batch_size = 16\n",
        "n_class = 5\n",
        "domain_src, domain_tar = 'cartoonV2', 'coralV2'"
      ],
      "execution_count": null,
      "outputs": []
    },
    {
      "cell_type": "markdown",
      "metadata": {
        "id": "XA6e2YaPtm4u"
      },
      "source": [
        "## Data load\n",
        "Now, define a data loader function."
      ]
    },
    {
      "cell_type": "code",
      "metadata": {
        "id": "6JtN_bK9VFcM"
      },
      "source": [
        "def load_data(root_path, domain, batch_size, phase):\n",
        "    transform_dict = {\n",
        "        'src': transforms.Compose(\n",
        "        [transforms.RandomResizedCrop(224),\n",
        "         transforms.RandomHorizontalFlip(),\n",
        "         transforms.ToTensor(),\n",
        "         transforms.Normalize(mean=[0.485, 0.456, 0.406],\n",
        "                              std=[0.229, 0.224, 0.225]),\n",
        "         ]),\n",
        "        'tar': transforms.Compose(\n",
        "        [transforms.Resize(224),\n",
        "         transforms.ToTensor(),\n",
        "         transforms.Normalize(mean=[0.485, 0.456, 0.406],\n",
        "                              std=[0.229, 0.224, 0.225]),\n",
        "         ])}\n",
        "    data = datasets.ImageFolder(root=os.path.join(root_path, domain), transform=transform_dict[phase])\n",
        "    data_loader = torch.utils.data.DataLoader(data, batch_size=batch_size, shuffle=phase=='src', drop_last=phase=='tar', num_workers=4)\n",
        "    return data_loader\n"
      ],
      "execution_count": null,
      "outputs": []
    },
    {
      "cell_type": "markdown",
      "metadata": {
        "id": "PHy09lD9tm4v"
      },
      "source": [
        "Load the data using the above function to test it."
      ]
    },
    {
      "cell_type": "code",
      "metadata": {
        "id": "Jf_Gw2HRVJM_",
        "colab": {
          "base_uri": "https://localhost:8080/"
        },
        "outputId": "6cab0d0d-3d8e-48d3-8054-0c96260219d9"
      },
      "source": [
        "src_loader = load_data(data_folder, domain_src, batch_size, phase='src')\n",
        "tar_loader = load_data(data_folder, domain_tar, batch_size, phase='tar')\n",
        "print(f'Source data number: {len(src_loader.dataset)}')\n",
        "print(f'Target data number: {len(tar_loader.dataset)}')"
      ],
      "execution_count": null,
      "outputs": [
        {
          "output_type": "stream",
          "name": "stderr",
          "text": [
            "/usr/local/lib/python3.10/dist-packages/torch/utils/data/dataloader.py:560: UserWarning: This DataLoader will create 4 worker processes in total. Our suggested max number of worker in current system is 2, which is smaller than what this DataLoader is going to create. Please be aware that excessive worker creation might get DataLoader running slow or even freeze, lower the worker number to avoid potential slowness/freeze if necessary.\n",
            "  warnings.warn(_create_warning_msg(\n"
          ]
        },
        {
          "output_type": "stream",
          "name": "stdout",
          "text": [
            "Source data number: 2281\n",
            "Target data number: 689\n"
          ]
        }
      ]
    },
    {
      "cell_type": "markdown",
      "metadata": {
        "id": "caKMn438tm4v"
      },
      "source": [
        "## Define the finetune model\n",
        "The model for finetune is based on ResNet-50 for its popularity. Of course you can use other base networks.\n",
        "The main logic of this class is to get the pretrained ResNet-50, use all of its layers but the last one, which we will replace by a new FC layer for classification. Since the original ResNet-50 is for 1000 classes classification, we only need it to classify 31."
      ]
    },
    {
      "cell_type": "code",
      "metadata": {
        "id": "OXAjmY7pVK8t"
      },
      "source": [
        "class TransferModel(nn.Module):\n",
        "    def __init__(self,\n",
        "                base_model : str = 'resnet50',\n",
        "                pretrain : bool = True,\n",
        "                n_class : int = 31):\n",
        "        super(TransferModel, self).__init__()\n",
        "        self.base_model = base_model\n",
        "        self.pretrain = pretrain\n",
        "        self.n_class = n_class\n",
        "        if self.base_model == 'resnet50':\n",
        "            self.model = torchvision.models.resnet50(pretrained=True)\n",
        "            n_features = self.model.fc.in_features\n",
        "            fc = torch.nn.Linear(n_features, n_class)\n",
        "            self.model.fc = fc\n",
        "        else:\n",
        "            # Use other models you like, such as vgg or alexnet\n",
        "            pass\n",
        "        self.model.fc.weight.data.normal_(0, 0.005)\n",
        "        self.model.fc.bias.data.fill_(0.1)\n",
        "\n",
        "    def forward(self, x):\n",
        "        return self.model(x)\n",
        "\n",
        "    def predict(self, x):\n",
        "        return self.forward(x)"
      ],
      "execution_count": null,
      "outputs": []
    },
    {
      "cell_type": "markdown",
      "metadata": {
        "id": "UAqT-0jRtm4w"
      },
      "source": [
        "Now, we define a model and test it using a random tensor."
      ]
    },
    {
      "cell_type": "code",
      "metadata": {
        "id": "LewRmYIvXEIo",
        "colab": {
          "base_uri": "https://localhost:8080/"
        },
        "outputId": "887537d4-da20-40f8-883e-d40d0d7fdfe9"
      },
      "source": [
        "model = TransferModel().cuda()\n",
        "RAND_TENSOR = torch.randn(1, 3, 224, 224).cuda()\n",
        "output = model(RAND_TENSOR)\n",
        "print(output)\n",
        "print(output.shape)"
      ],
      "execution_count": null,
      "outputs": [
        {
          "output_type": "stream",
          "name": "stderr",
          "text": [
            "/usr/local/lib/python3.10/dist-packages/torchvision/models/_utils.py:208: UserWarning: The parameter 'pretrained' is deprecated since 0.13 and may be removed in the future, please use 'weights' instead.\n",
            "  warnings.warn(\n",
            "/usr/local/lib/python3.10/dist-packages/torchvision/models/_utils.py:223: UserWarning: Arguments other than a weight enum or `None` for 'weights' are deprecated since 0.13 and may be removed in the future. The current behavior is equivalent to passing `weights=ResNet50_Weights.IMAGENET1K_V1`. You can also use `weights=ResNet50_Weights.DEFAULT` to get the most up-to-date weights.\n",
            "  warnings.warn(msg)\n",
            "Downloading: \"https://download.pytorch.org/models/resnet50-0676ba61.pth\" to /root/.cache/torch/hub/checkpoints/resnet50-0676ba61.pth\n",
            "100%|██████████| 97.8M/97.8M [00:00<00:00, 327MB/s]\n"
          ]
        },
        {
          "output_type": "stream",
          "name": "stdout",
          "text": [
            "tensor([[-0.1234,  0.0592,  0.2119,  0.0849,  0.1380,  0.0923,  0.0522,  0.2018,\n",
            "          0.1651,  0.0792,  0.1713,  0.2651,  0.2742,  0.2610,  0.2067,  0.1757,\n",
            "         -0.1030,  0.0146,  0.3076,  0.0472,  0.1701,  0.3290,  0.1913,  0.0830,\n",
            "          0.2254,  0.0869,  0.0619,  0.1413,  0.1418,  0.1489,  0.1619]],\n",
            "       device='cuda:0', grad_fn=<AddmmBackward0>)\n",
            "torch.Size([1, 31])\n"
          ]
        }
      ]
    },
    {
      "cell_type": "markdown",
      "metadata": {
        "id": "UpX-fuiXtm4w"
      },
      "source": [
        "## Finetune ResNet-50\n",
        "Define some variables. Note that Office-31 doesn't have a validation set, so we use its target domain as the validation set."
      ]
    },
    {
      "cell_type": "markdown",
      "metadata": {
        "id": "0uNeAiPatm4w"
      },
      "source": [
        "Now the most important part: write the finetune function.\n",
        "This function is pretty easy: it is basically a standard classification function. We train it on the 'src' domain, valid it on the 'val' domain, and then test it on the 'tar' domain.\n",
        "The only difference is that Office-31 dataset has no validation set, so we will use the target domain as the validation set. For your own data, you should use its standard validation set.\n",
        "We also set an early_stop variable."
      ]
    },
    {
      "cell_type": "code",
      "metadata": {
        "id": "h74gKIVqtm4w"
      },
      "source": [
        "dataloaders = {'src': src_loader,\n",
        "               'val': tar_loader,\n",
        "               'tar': tar_loader}\n",
        "n_epoch = 50\n",
        "criterion = nn.CrossEntropyLoss()\n",
        "early_stop = 20"
      ],
      "execution_count": null,
      "outputs": []
    },
    {
      "cell_type": "code",
      "metadata": {
        "id": "-fz_FlAIXsTF"
      },
      "source": [
        "def finetune(model, dataloaders, optimizer):\n",
        "    since = time.time()\n",
        "    best_acc = 0\n",
        "    stop = 0\n",
        "    for epoch in range(0, n_epoch):\n",
        "        stop += 1\n",
        "        # You can uncomment this line for scheduling learning rate\n",
        "        # lr_schedule(optimizer, epoch)\n",
        "        for phase in ['src', 'val', 'tar']:\n",
        "            if phase == 'src':\n",
        "                model.train()\n",
        "            else:\n",
        "                model.eval()\n",
        "            total_loss, correct = 0, 0\n",
        "            for inputs, labels in dataloaders[phase]:\n",
        "                inputs, labels = inputs.cuda(), labels.cuda()\n",
        "                optimizer.zero_grad()\n",
        "                with torch.set_grad_enabled(phase == 'src'):\n",
        "                    outputs = model(inputs)\n",
        "                    loss = criterion(outputs, labels)\n",
        "                preds = torch.max(outputs, 1)[1]\n",
        "                if phase == 'src':\n",
        "                    loss.backward()\n",
        "                    optimizer.step()\n",
        "                total_loss += loss.item() * inputs.size(0)\n",
        "                correct += torch.sum(preds == labels.data)\n",
        "            epoch_loss = total_loss / len(dataloaders[phase].dataset)\n",
        "            epoch_acc = correct.double() / len(dataloaders[phase].dataset)\n",
        "            print(f'Epoch: [{epoch:02d}/{n_epoch:02d}]---{phase}, loss: {epoch_loss:.6f}, acc: {epoch_acc:.4f}')\n",
        "            if phase == 'val' and epoch_acc > best_acc:\n",
        "                stop = 0\n",
        "                best_acc = epoch_acc\n",
        "                torch.save(model.state_dict(), 'model.pkl')\n",
        "        if stop >= early_stop:\n",
        "            break\n",
        "        print()\n",
        "\n",
        "    time_pass = time.time() - since\n",
        "    print(f'Training complete in {time_pass // 60:.0f}m {time_pass % 60:.0f}s')"
      ],
      "execution_count": null,
      "outputs": []
    },
    {
      "cell_type": "markdown",
      "metadata": {
        "id": "rGUZGrm7tm4x"
      },
      "source": [
        "Now, define some train parameters and the optimizer. For simplicity, we use SGD, and the learning rate for the FC layer is 10 times of other layers, which is a common trick."
      ]
    },
    {
      "cell_type": "code",
      "metadata": {
        "id": "HGVIu0JXZaGT"
      },
      "source": [
        "param_group = []\n",
        "learning_rate = 0.0001\n",
        "momentum = 5e-4\n",
        "for k, v in model.named_parameters():\n",
        "    if not k.__contains__('fc'):\n",
        "        param_group += [{'params': v, 'lr': learning_rate}]\n",
        "    else:\n",
        "        param_group += [{'params': v, 'lr': learning_rate * 10}]\n",
        "optimizer = torch.optim.SGD(param_group, momentum=momentum)"
      ],
      "execution_count": null,
      "outputs": []
    },
    {
      "cell_type": "markdown",
      "metadata": {
        "id": "F7zGR_PFtm4y"
      },
      "source": [
        "## Train and test\n",
        "Now we can train and test it."
      ]
    },
    {
      "cell_type": "code",
      "metadata": {
        "id": "uKKrah-AZsHt",
        "colab": {
          "base_uri": "https://localhost:8080/"
        },
        "outputId": "b63bc95c-41ff-4c6c-f21a-1099b1ff8c96"
      },
      "source": [
        "finetune(model, dataloaders, optimizer)"
      ],
      "execution_count": null,
      "outputs": [
        {
          "output_type": "stream",
          "name": "stdout",
          "text": [
            "Epoch: [00/50]---src, loss: 1.585702, acc: 0.7655\n",
            "Epoch: [00/50]---val, loss: 1.205178, acc: 0.7446\n",
            "Epoch: [00/50]---tar, loss: 1.205178, acc: 0.7446\n",
            "\n",
            "Epoch: [01/50]---src, loss: 0.778169, acc: 0.9285\n",
            "Epoch: [01/50]---val, loss: 0.956545, acc: 0.7344\n",
            "Epoch: [01/50]---tar, loss: 0.956545, acc: 0.7344\n",
            "\n",
            "Epoch: [02/50]---src, loss: 0.559743, acc: 0.9434\n",
            "Epoch: [02/50]---val, loss: 0.855356, acc: 0.7373\n",
            "Epoch: [02/50]---tar, loss: 0.855356, acc: 0.7373\n",
            "\n",
            "Epoch: [03/50]---src, loss: 0.452594, acc: 0.9272\n",
            "Epoch: [03/50]---val, loss: 0.829974, acc: 0.7199\n",
            "Epoch: [03/50]---tar, loss: 0.829974, acc: 0.7199\n",
            "\n",
            "Epoch: [04/50]---src, loss: 0.382236, acc: 0.9426\n",
            "Epoch: [04/50]---val, loss: 0.699447, acc: 0.7663\n",
            "Epoch: [04/50]---tar, loss: 0.699447, acc: 0.7663\n",
            "\n",
            "Epoch: [05/50]---src, loss: 0.339919, acc: 0.9456\n",
            "Epoch: [05/50]---val, loss: 0.713498, acc: 0.7489\n",
            "Epoch: [05/50]---tar, loss: 0.713498, acc: 0.7489\n",
            "\n",
            "Epoch: [06/50]---src, loss: 0.301626, acc: 0.9421\n",
            "Epoch: [06/50]---val, loss: 0.638245, acc: 0.7808\n",
            "Epoch: [06/50]---tar, loss: 0.638245, acc: 0.7808\n",
            "\n",
            "Epoch: [07/50]---src, loss: 0.274097, acc: 0.9483\n",
            "Epoch: [07/50]---val, loss: 0.623833, acc: 0.7808\n",
            "Epoch: [07/50]---tar, loss: 0.623833, acc: 0.7808\n",
            "\n",
            "Epoch: [08/50]---src, loss: 0.251659, acc: 0.9553\n",
            "Epoch: [08/50]---val, loss: 0.600122, acc: 0.7808\n",
            "Epoch: [08/50]---tar, loss: 0.600122, acc: 0.7808\n",
            "\n",
            "Epoch: [09/50]---src, loss: 0.248163, acc: 0.9478\n",
            "Epoch: [09/50]---val, loss: 0.608461, acc: 0.7765\n",
            "Epoch: [09/50]---tar, loss: 0.608461, acc: 0.7765\n",
            "\n",
            "Epoch: [10/50]---src, loss: 0.224087, acc: 0.9483\n",
            "Epoch: [10/50]---val, loss: 0.648565, acc: 0.7678\n",
            "Epoch: [10/50]---tar, loss: 0.648565, acc: 0.7678\n",
            "\n",
            "Epoch: [11/50]---src, loss: 0.211126, acc: 0.9531\n",
            "Epoch: [11/50]---val, loss: 0.570677, acc: 0.7983\n",
            "Epoch: [11/50]---tar, loss: 0.570677, acc: 0.7983\n",
            "\n",
            "Epoch: [12/50]---src, loss: 0.205962, acc: 0.9548\n",
            "Epoch: [12/50]---val, loss: 0.659212, acc: 0.7431\n",
            "Epoch: [12/50]---tar, loss: 0.659212, acc: 0.7431\n",
            "\n",
            "Epoch: [13/50]---src, loss: 0.193360, acc: 0.9513\n",
            "Epoch: [13/50]---val, loss: 0.586408, acc: 0.7808\n",
            "Epoch: [13/50]---tar, loss: 0.586408, acc: 0.7808\n",
            "\n",
            "Epoch: [14/50]---src, loss: 0.195214, acc: 0.9544\n",
            "Epoch: [14/50]---val, loss: 0.518521, acc: 0.8099\n",
            "Epoch: [14/50]---tar, loss: 0.518521, acc: 0.8099\n",
            "\n",
            "Epoch: [15/50]---src, loss: 0.175217, acc: 0.9605\n",
            "Epoch: [15/50]---val, loss: 0.535538, acc: 0.8012\n",
            "Epoch: [15/50]---tar, loss: 0.535538, acc: 0.8012\n",
            "\n",
            "Epoch: [16/50]---src, loss: 0.161086, acc: 0.9676\n",
            "Epoch: [16/50]---val, loss: 0.626080, acc: 0.7663\n",
            "Epoch: [16/50]---tar, loss: 0.626080, acc: 0.7663\n",
            "\n",
            "Epoch: [17/50]---src, loss: 0.167044, acc: 0.9641\n",
            "Epoch: [17/50]---val, loss: 0.642322, acc: 0.7533\n",
            "Epoch: [17/50]---tar, loss: 0.642322, acc: 0.7533\n",
            "\n",
            "Epoch: [18/50]---src, loss: 0.160838, acc: 0.9566\n",
            "Epoch: [18/50]---val, loss: 0.597726, acc: 0.7736\n",
            "Epoch: [18/50]---tar, loss: 0.597726, acc: 0.7736\n",
            "\n",
            "Epoch: [19/50]---src, loss: 0.166192, acc: 0.9566\n",
            "Epoch: [19/50]---val, loss: 0.556388, acc: 0.7997\n",
            "Epoch: [19/50]---tar, loss: 0.556388, acc: 0.7997\n",
            "\n",
            "Epoch: [20/50]---src, loss: 0.161709, acc: 0.9641\n",
            "Epoch: [20/50]---val, loss: 0.560948, acc: 0.7881\n",
            "Epoch: [20/50]---tar, loss: 0.560948, acc: 0.7881\n",
            "\n",
            "Epoch: [21/50]---src, loss: 0.151752, acc: 0.9610\n",
            "Epoch: [21/50]---val, loss: 0.556696, acc: 0.7881\n",
            "Epoch: [21/50]---tar, loss: 0.556696, acc: 0.7881\n",
            "\n",
            "Epoch: [22/50]---src, loss: 0.149835, acc: 0.9645\n",
            "Epoch: [22/50]---val, loss: 0.616856, acc: 0.7562\n",
            "Epoch: [22/50]---tar, loss: 0.616856, acc: 0.7562\n",
            "\n",
            "Epoch: [23/50]---src, loss: 0.139709, acc: 0.9627\n",
            "Epoch: [23/50]---val, loss: 0.628910, acc: 0.7591\n",
            "Epoch: [23/50]---tar, loss: 0.628910, acc: 0.7591\n",
            "\n",
            "Epoch: [24/50]---src, loss: 0.156493, acc: 0.9544\n",
            "Epoch: [24/50]---val, loss: 0.541531, acc: 0.7881\n",
            "Epoch: [24/50]---tar, loss: 0.541531, acc: 0.7881\n",
            "\n",
            "Epoch: [25/50]---src, loss: 0.152186, acc: 0.9557\n",
            "Epoch: [25/50]---val, loss: 0.595907, acc: 0.7750\n",
            "Epoch: [25/50]---tar, loss: 0.595907, acc: 0.7750\n",
            "\n",
            "Epoch: [26/50]---src, loss: 0.144540, acc: 0.9632\n",
            "Epoch: [26/50]---val, loss: 0.516296, acc: 0.8084\n",
            "Epoch: [26/50]---tar, loss: 0.516296, acc: 0.8084\n",
            "\n",
            "Epoch: [27/50]---src, loss: 0.131372, acc: 0.9636\n",
            "Epoch: [27/50]---val, loss: 0.595691, acc: 0.7750\n",
            "Epoch: [27/50]---tar, loss: 0.595691, acc: 0.7750\n",
            "\n",
            "Epoch: [28/50]---src, loss: 0.143181, acc: 0.9584\n",
            "Epoch: [28/50]---val, loss: 0.553102, acc: 0.7823\n",
            "Epoch: [28/50]---tar, loss: 0.553102, acc: 0.7823\n",
            "\n",
            "Epoch: [29/50]---src, loss: 0.141610, acc: 0.9601\n",
            "Epoch: [29/50]---val, loss: 0.574867, acc: 0.7779\n",
            "Epoch: [29/50]---tar, loss: 0.574867, acc: 0.7779\n",
            "\n",
            "Epoch: [30/50]---src, loss: 0.126108, acc: 0.9645\n",
            "Epoch: [30/50]---val, loss: 0.625053, acc: 0.7562\n",
            "Epoch: [30/50]---tar, loss: 0.625053, acc: 0.7562\n",
            "\n",
            "Epoch: [31/50]---src, loss: 0.130615, acc: 0.9645\n",
            "Epoch: [31/50]---val, loss: 0.517735, acc: 0.8070\n",
            "Epoch: [31/50]---tar, loss: 0.517735, acc: 0.8070\n",
            "\n",
            "Epoch: [32/50]---src, loss: 0.131770, acc: 0.9605\n",
            "Epoch: [32/50]---val, loss: 0.645353, acc: 0.7547\n",
            "Epoch: [32/50]---tar, loss: 0.645353, acc: 0.7547\n",
            "\n",
            "Epoch: [33/50]---src, loss: 0.115408, acc: 0.9711\n",
            "Epoch: [33/50]---val, loss: 0.538280, acc: 0.7997\n",
            "Epoch: [33/50]---tar, loss: 0.538280, acc: 0.7997\n",
            "\n",
            "Epoch: [34/50]---src, loss: 0.121409, acc: 0.9649\n",
            "Epoch: [34/50]---val, loss: 0.616023, acc: 0.7634\n",
            "Epoch: [34/50]---tar, loss: 0.616023, acc: 0.7634\n",
            "Training complete in 33m 16s\n"
          ]
        }
      ]
    },
    {
      "cell_type": "code",
      "metadata": {
        "id": "GR5Y1x4btm4y"
      },
      "source": [
        "def test(model, target_test_loader):\n",
        "    model.eval()\n",
        "    correct = 0\n",
        "    len_target_dataset = len(target_test_loader.dataset)\n",
        "    with torch.no_grad():\n",
        "        for data, target in target_test_loader:\n",
        "            data, target = data.cuda(), target.cuda()\n",
        "            s_output = model.predict(data)\n",
        "            pred = torch.max(s_output, 1)[1]\n",
        "            correct += torch.sum(pred == target)\n",
        "    acc = correct.double() / len(target_test_loader.dataset)\n",
        "    return acc"
      ],
      "execution_count": null,
      "outputs": []
    },
    {
      "cell_type": "code",
      "metadata": {
        "id": "1O2CBxmxtm4y",
        "colab": {
          "base_uri": "https://localhost:8080/"
        },
        "outputId": "a4503c2f-9b43-4aa2-fd09-dd6710e0114b"
      },
      "source": [
        "model.load_state_dict(torch.load('model.pkl'))\n",
        "acc_test = test(model, dataloaders['tar'])\n",
        "print(f'Test accuracy: {acc_test}')"
      ],
      "execution_count": null,
      "outputs": [
        {
          "output_type": "stream",
          "name": "stdout",
          "text": [
            "Test accuracy: 0.8098693759071117\n"
          ]
        }
      ]
    },
    {
      "cell_type": "markdown",
      "metadata": {
        "id": "I7Iuk_Mitm4z"
      },
      "source": [
        "It's over for finetune. Of course, you should use some learning rate decay trick in real training. But that is not our goal.\n",
        "Next, we will continue to use the same dataloader for domain adaptation."
      ]
    },
    {
      "cell_type": "markdown",
      "metadata": {
        "id": "bO4c_QcGtm4z"
      },
      "source": [
        "## Domain adaptation\n",
        "Now we are in domain adaptation."
      ]
    },
    {
      "cell_type": "markdown",
      "metadata": {
        "id": "VJwcwLQftm40"
      },
      "source": [
        "## Logic for domain adaptation\n",
        "The logic for domain adaptation is mostly similar to finetune, except that we must add a loss to the finetune model to **regularize the distribution discrepancy** between two domains.\n",
        "Therefore, the most different parts are:\n",
        "- Define some **loss function** to compute the distance (which is the main contribution of most existing DA papers)\n",
        "- Define a new model class to use that loss function for **forward** pass.\n",
        "- Write a slightly different script to train, since we have to take both **source data, source label, and target data**."
      ]
    },
    {
      "cell_type": "markdown",
      "metadata": {
        "id": "Jy_1xwdJtm40"
      },
      "source": [
        "### Loss function\n",
        "The most popular loss function for DA is **MMD (Maximum Mean Discrepancy)**. For comaprison, we also use another popular loss **CORAL (CORrelation ALignment)**. They are defined as follows."
      ]
    },
    {
      "cell_type": "markdown",
      "metadata": {
        "id": "z3-wKorUtm40"
      },
      "source": [
        "#### MMD loss"
      ]
    },
    {
      "cell_type": "code",
      "metadata": {
        "id": "MpQH6VFwtm41"
      },
      "source": [
        "class MMD_loss(nn.Module):\n",
        "    def __init__(self, kernel_type='rbf', kernel_mul=2.0, kernel_num=5):\n",
        "        super(MMD_loss, self).__init__()\n",
        "        self.kernel_num = kernel_num\n",
        "        self.kernel_mul = kernel_mul\n",
        "        self.fix_sigma = None\n",
        "        self.kernel_type = kernel_type\n",
        "\n",
        "    def guassian_kernel(self, source, target, kernel_mul=2.0, kernel_num=5, fix_sigma=None):\n",
        "        n_samples = int(source.size()[0]) + int(target.size()[0])\n",
        "        total = torch.cat([source, target], dim=0)\n",
        "        total0 = total.unsqueeze(0).expand(\n",
        "            int(total.size(0)), int(total.size(0)), int(total.size(1)))\n",
        "        total1 = total.unsqueeze(1).expand(\n",
        "            int(total.size(0)), int(total.size(0)), int(total.size(1)))\n",
        "        L2_distance = ((total0-total1)**2).sum(2)\n",
        "        if fix_sigma:\n",
        "            bandwidth = fix_sigma\n",
        "        else:\n",
        "            bandwidth = torch.sum(L2_distance.data) / (n_samples**2-n_samples)\n",
        "        bandwidth /= kernel_mul ** (kernel_num // 2)\n",
        "        bandwidth_list = [bandwidth * (kernel_mul**i)\n",
        "                          for i in range(kernel_num)]\n",
        "        kernel_val = [torch.exp(-L2_distance / bandwidth_temp)\n",
        "                      for bandwidth_temp in bandwidth_list]\n",
        "        return sum(kernel_val)\n",
        "\n",
        "    def linear_mmd2(self, f_of_X, f_of_Y):\n",
        "        loss = 0.0\n",
        "        delta = f_of_X.float().mean(0) - f_of_Y.float().mean(0)\n",
        "        loss = delta.dot(delta.T)\n",
        "        return loss\n",
        "\n",
        "    def forward(self, source, target):\n",
        "        if self.kernel_type == 'linear':\n",
        "            return self.linear_mmd2(source, target)\n",
        "        elif self.kernel_type == 'rbf':\n",
        "            batch_size = int(source.size()[0])\n",
        "            kernels = self.guassian_kernel(\n",
        "                source, target, kernel_mul=self.kernel_mul, kernel_num=self.kernel_num, fix_sigma=self.fix_sigma)\n",
        "            XX = torch.mean(kernels[:batch_size, :batch_size])\n",
        "            YY = torch.mean(kernels[batch_size:, batch_size:])\n",
        "            XY = torch.mean(kernels[:batch_size, batch_size:])\n",
        "            YX = torch.mean(kernels[batch_size:, :batch_size])\n",
        "            loss = torch.mean(XX + YY - XY - YX)\n",
        "            return loss\n"
      ],
      "execution_count": null,
      "outputs": []
    },
    {
      "cell_type": "markdown",
      "metadata": {
        "id": "NcfUy_2Dtm41"
      },
      "source": [
        "#### CORAL loss"
      ]
    },
    {
      "cell_type": "code",
      "metadata": {
        "id": "uZhKJq15tm41"
      },
      "source": [
        "def CORAL(source, target):\n",
        "    d = source.size(1)\n",
        "    ns, nt = source.size(0), target.size(0)\n",
        "\n",
        "    # source covariance\n",
        "    tmp_s = torch.ones((1, ns)).cuda() @ source\n",
        "    cs = (source.t() @ source - (tmp_s.t() @ tmp_s) / ns) / (ns - 1)\n",
        "\n",
        "    # target covariance\n",
        "    tmp_t = torch.ones((1, nt)).cuda() @ target\n",
        "    ct = (target.t() @ target - (tmp_t.t() @ tmp_t) / nt) / (nt - 1)\n",
        "\n",
        "    # frobenius norm\n",
        "    loss = (cs - ct).pow(2).sum().sqrt()\n",
        "    loss = loss / (4 * d * d)\n",
        "\n",
        "    return loss"
      ],
      "execution_count": null,
      "outputs": []
    },
    {
      "cell_type": "markdown",
      "metadata": {
        "id": "VB2cDp8Gtm41"
      },
      "source": [
        "### Model\n",
        "Now we use ResNet-50 again just like finetune. The difference is that we rewrite the ResNet-50 class to drop its last layer."
      ]
    },
    {
      "cell_type": "code",
      "metadata": {
        "id": "UOLx_OSxtm41"
      },
      "source": [
        "from torchvision import models\n",
        "class ResNet50Fc(nn.Module):\n",
        "    def __init__(self):\n",
        "        super(ResNet50Fc, self).__init__()\n",
        "        model_resnet50 = models.resnet50(pretrained=True)\n",
        "        self.conv1 = model_resnet50.conv1\n",
        "        self.bn1 = model_resnet50.bn1\n",
        "        self.relu = model_resnet50.relu\n",
        "        self.maxpool = model_resnet50.maxpool\n",
        "        self.layer1 = model_resnet50.layer1\n",
        "        self.layer2 = model_resnet50.layer2\n",
        "        self.layer3 = model_resnet50.layer3\n",
        "        self.layer4 = model_resnet50.layer4\n",
        "        self.avgpool = model_resnet50.avgpool\n",
        "        self.__in_features = model_resnet50.fc.in_features\n",
        "\n",
        "    def forward(self, x):\n",
        "        x = self.conv1(x)\n",
        "        x = self.bn1(x)\n",
        "        x = self.relu(x)\n",
        "        x = self.maxpool(x)\n",
        "        x = self.layer1(x)\n",
        "        x = self.layer2(x)\n",
        "        x = self.layer3(x)\n",
        "        x = self.layer4(x)\n",
        "        x = self.avgpool(x)\n",
        "        x = x.view(x.size(0), -1)\n",
        "        return x\n",
        "\n",
        "    def output_num(self):\n",
        "        return self.__in_features"
      ],
      "execution_count": null,
      "outputs": []
    },
    {
      "cell_type": "markdown",
      "metadata": {
        "id": "IRgdNM3Wtm42"
      },
      "source": [
        "Now the main class for DA. We take ResNet-50 as its backbone, add a bottleneck layer and our own FC layer for classification.\n",
        "Note the `adapt_loss` function. It is just using our predefined MMD or CORAL loss. Of course you can use your own loss."
      ]
    },
    {
      "cell_type": "code",
      "metadata": {
        "id": "oC5NKJpJtm42"
      },
      "source": [
        "class TransferNet(nn.Module):\n",
        "    def __init__(self,\n",
        "                 num_class,\n",
        "                 base_net='resnet50',\n",
        "                 transfer_loss='mmd',\n",
        "                 use_bottleneck=True,\n",
        "                 bottleneck_width=256,\n",
        "                 width=1024):\n",
        "        super(TransferNet, self).__init__()\n",
        "        if base_net == 'resnet50':\n",
        "            self.base_network = ResNet50Fc()\n",
        "        else:\n",
        "            # Your own basenet\n",
        "            return\n",
        "        self.use_bottleneck = use_bottleneck\n",
        "        self.transfer_loss = transfer_loss\n",
        "        bottleneck_list = [nn.Linear(self.base_network.output_num(\n",
        "        ), bottleneck_width), nn.BatchNorm1d(bottleneck_width), nn.ReLU(), nn.Dropout(0.5)]\n",
        "        self.bottleneck_layer = nn.Sequential(*bottleneck_list)\n",
        "        classifier_layer_list = [nn.Linear(self.base_network.output_num(), width), nn.ReLU(), nn.Dropout(0.5),\n",
        "                                 nn.Linear(width, num_class)]\n",
        "        self.classifier_layer = nn.Sequential(*classifier_layer_list)\n",
        "\n",
        "        self.bottleneck_layer[0].weight.data.normal_(0, 0.005)\n",
        "        self.bottleneck_layer[0].bias.data.fill_(0.1)\n",
        "        for i in range(2):\n",
        "            self.classifier_layer[i * 3].weight.data.normal_(0, 0.01)\n",
        "            self.classifier_layer[i * 3].bias.data.fill_(0.0)\n",
        "\n",
        "    def forward(self, source, target):\n",
        "        source = self.base_network(source)\n",
        "        target = self.base_network(target)\n",
        "        source_clf = self.classifier_layer(source)\n",
        "        if self.use_bottleneck:\n",
        "            source = self.bottleneck_layer(source)\n",
        "            target = self.bottleneck_layer(target)\n",
        "        transfer_loss = self.adapt_loss(source, target, self.transfer_loss)\n",
        "        return source_clf, transfer_loss\n",
        "\n",
        "    def predict(self, x):\n",
        "        features = self.base_network(x)\n",
        "        clf = self.classifier_layer(features)\n",
        "        return clf\n",
        "\n",
        "    def adapt_loss(self, X, Y, adapt_loss):\n",
        "        \"\"\"Compute adaptation loss, currently we support mmd and coral\n",
        "\n",
        "        Arguments:\n",
        "            X {tensor} -- source matrix\n",
        "            Y {tensor} -- target matrix\n",
        "            adapt_loss {string} -- loss type, 'mmd' or 'coral'. You can add your own loss\n",
        "\n",
        "        Returns:\n",
        "            [tensor] -- adaptation loss tensor\n",
        "        \"\"\"\n",
        "        if adapt_loss == 'mmd':\n",
        "            mmd_loss = MMD_loss()\n",
        "            loss = mmd_loss(X, Y)\n",
        "        elif adapt_loss == 'coral':\n",
        "            loss = CORAL(X, Y)\n",
        "        else:\n",
        "            # Your own loss\n",
        "            loss = 0\n",
        "        return loss"
      ],
      "execution_count": null,
      "outputs": []
    },
    {
      "cell_type": "markdown",
      "metadata": {
        "id": "hAdPs27btm42"
      },
      "source": [
        "### Train\n",
        "Now the train part."
      ]
    },
    {
      "cell_type": "code",
      "metadata": {
        "id": "OK6P8uMDtm42"
      },
      "source": [
        "transfer_loss = 'mmd'\n",
        "learning_rate = 0.0001\n",
        "transfer_model = TransferNet(n_class, transfer_loss=transfer_loss, base_net='resnet50').cuda()\n",
        "optimizer = torch.optim.SGD([\n",
        "    {'params': transfer_model.base_network.parameters()},\n",
        "    {'params': transfer_model.bottleneck_layer.parameters(), 'lr': 10 * learning_rate},\n",
        "    {'params': transfer_model.classifier_layer.parameters(), 'lr': 10 * learning_rate},\n",
        "], lr=learning_rate, momentum=0.9, weight_decay=5e-4)\n",
        "lamb = 10 # weight for transfer loss, it is a hyperparameter that needs to be tuned"
      ],
      "execution_count": null,
      "outputs": []
    },
    {
      "cell_type": "markdown",
      "metadata": {
        "id": "4WpUfcHItm42"
      },
      "source": [
        "The main train function. Since we have to enumerate all source and target samples, we have to use `zip` operation to enumerate each pair of these two domains. It is common that two domains have different sizes, but we think by randomly sampling them in many epochs, we may sample each one of them."
      ]
    },
    {
      "cell_type": "code",
      "metadata": {
        "id": "AGlVNI2ktm42"
      },
      "source": [
        "def train(dataloaders, model, optimizer):\n",
        "    source_loader, target_train_loader, target_test_loader = dataloaders['src'], dataloaders['val'], dataloaders['tar']\n",
        "    len_source_loader = len(source_loader)\n",
        "    len_target_loader = len(target_train_loader)\n",
        "    best_acc = 0\n",
        "    stop = 0\n",
        "    n_batch = min(len_source_loader, len_target_loader)\n",
        "    for e in range(n_epoch):\n",
        "        stop += 1\n",
        "        train_loss_clf, train_loss_transfer, train_loss_total = 0, 0, 0\n",
        "        model.train()\n",
        "        for (src, tar) in zip(source_loader, target_train_loader):\n",
        "            data_source, label_source = src\n",
        "            data_target, _ = tar\n",
        "            data_source, label_source = data_source.cuda(), label_source.cuda()\n",
        "            data_target = data_target.cuda()\n",
        "\n",
        "            optimizer.zero_grad()\n",
        "            label_source_pred, transfer_loss = model(data_source, data_target)\n",
        "            clf_loss = criterion(label_source_pred, label_source)\n",
        "            loss = clf_loss + lamb * transfer_loss\n",
        "            loss.backward()\n",
        "            optimizer.step()\n",
        "            train_loss_clf = clf_loss.detach().item() + train_loss_clf\n",
        "            train_loss_transfer = transfer_loss.detach().item() + train_loss_transfer\n",
        "            train_loss_total = loss.detach().item() + train_loss_total\n",
        "        acc = test(model, target_test_loader)\n",
        "        print(f'Epoch: [{e:2d}/{n_epoch}], cls_loss: {train_loss_clf/n_batch:.4f}, transfer_loss: {train_loss_transfer/n_batch:.4f}, total_Loss: {train_loss_total/n_batch:.4f}, acc: {acc:.4f}')\n",
        "        if best_acc < acc:\n",
        "            best_acc = acc\n",
        "            torch.save(model.state_dict(), 'trans_model.pkl')\n",
        "            stop = 0\n",
        "        if stop >= early_stop:\n",
        "            break\n"
      ],
      "execution_count": null,
      "outputs": []
    },
    {
      "cell_type": "code",
      "metadata": {
        "scrolled": true,
        "id": "nqSCG6-Xtm43",
        "colab": {
          "base_uri": "https://localhost:8080/"
        },
        "outputId": "1442875c-44e9-4f29-9fcf-2484a3e314a6"
      },
      "source": [
        "train(dataloaders, transfer_model, optimizer)"
      ],
      "execution_count": null,
      "outputs": [
        {
          "output_type": "stream",
          "name": "stdout",
          "text": [
            "Epoch: [ 0/50], cls_loss: 1.5034, transfer_loss: 0.3254, total_Loss: 4.7576, acc: 0.6531\n",
            "Epoch: [ 1/50], cls_loss: 1.1627, transfer_loss: 0.3254, total_Loss: 4.4167, acc: 0.7881\n",
            "Epoch: [ 2/50], cls_loss: 0.7875, transfer_loss: 0.3200, total_Loss: 3.9878, acc: 0.8505\n",
            "Epoch: [ 3/50], cls_loss: 0.5323, transfer_loss: 0.3173, total_Loss: 3.7055, acc: 0.8795\n",
            "Epoch: [ 4/50], cls_loss: 0.3658, transfer_loss: 0.3087, total_Loss: 3.4526, acc: 0.8563\n",
            "Epoch: [ 5/50], cls_loss: 0.2998, transfer_loss: 0.2915, total_Loss: 3.2148, acc: 0.8708\n",
            "Epoch: [ 6/50], cls_loss: 0.2647, transfer_loss: 0.2572, total_Loss: 2.8364, acc: 0.8940\n",
            "Epoch: [ 7/50], cls_loss: 0.2005, transfer_loss: 0.2340, total_Loss: 2.5410, acc: 0.8447\n",
            "Epoch: [ 8/50], cls_loss: 0.1846, transfer_loss: 0.2109, total_Loss: 2.2933, acc: 0.8578\n",
            "Epoch: [ 9/50], cls_loss: 0.1707, transfer_loss: 0.1956, total_Loss: 2.1269, acc: 0.8650\n",
            "Epoch: [10/50], cls_loss: 0.1661, transfer_loss: 0.1884, total_Loss: 2.0503, acc: 0.8679\n",
            "Epoch: [11/50], cls_loss: 0.1716, transfer_loss: 0.1834, total_Loss: 2.0051, acc: 0.8752\n",
            "Epoch: [12/50], cls_loss: 0.1797, transfer_loss: 0.1808, total_Loss: 1.9880, acc: 0.8389\n",
            "Epoch: [13/50], cls_loss: 0.1454, transfer_loss: 0.1753, total_Loss: 1.8979, acc: 0.8549\n",
            "Epoch: [14/50], cls_loss: 0.1406, transfer_loss: 0.1587, total_Loss: 1.7274, acc: 0.8491\n",
            "Epoch: [15/50], cls_loss: 0.1392, transfer_loss: 0.1440, total_Loss: 1.5788, acc: 0.8128\n",
            "Epoch: [16/50], cls_loss: 0.1586, transfer_loss: 0.1404, total_Loss: 1.5622, acc: 0.8462\n",
            "Epoch: [17/50], cls_loss: 0.1513, transfer_loss: 0.1230, total_Loss: 1.3809, acc: 0.8418\n",
            "Epoch: [18/50], cls_loss: 0.1447, transfer_loss: 0.1338, total_Loss: 1.4830, acc: 0.8534\n",
            "Epoch: [19/50], cls_loss: 0.1229, transfer_loss: 0.1181, total_Loss: 1.3040, acc: 0.8403\n",
            "Epoch: [20/50], cls_loss: 0.1501, transfer_loss: 0.1128, total_Loss: 1.2781, acc: 0.8244\n",
            "Epoch: [21/50], cls_loss: 0.1515, transfer_loss: 0.1067, total_Loss: 1.2186, acc: 0.8621\n",
            "Epoch: [22/50], cls_loss: 0.1105, transfer_loss: 0.1016, total_Loss: 1.1265, acc: 0.8055\n",
            "Epoch: [23/50], cls_loss: 0.1533, transfer_loss: 0.0917, total_Loss: 1.0703, acc: 0.8186\n",
            "Epoch: [24/50], cls_loss: 0.1292, transfer_loss: 0.0888, total_Loss: 1.0168, acc: 0.8345\n",
            "Epoch: [25/50], cls_loss: 0.1286, transfer_loss: 0.0833, total_Loss: 0.9617, acc: 0.8331\n",
            "Epoch: [26/50], cls_loss: 0.1516, transfer_loss: 0.0928, total_Loss: 1.0797, acc: 0.8258\n"
          ]
        }
      ]
    },
    {
      "cell_type": "code",
      "metadata": {
        "id": "yWvYODRDtm43",
        "colab": {
          "base_uri": "https://localhost:8080/"
        },
        "outputId": "c1b27437-2573-446e-8d5e-01230acc2fee"
      },
      "source": [
        "transfer_model.load_state_dict(torch.load('trans_model.pkl'))\n",
        "acc_test = test(transfer_model, dataloaders['tar'])\n",
        "print(f'Test accuracy: {acc_test}')"
      ],
      "execution_count": null,
      "outputs": [
        {
          "output_type": "stream",
          "name": "stdout",
          "text": [
            "Test accuracy: 0.8940493468795355\n"
          ]
        }
      ]
    },
    {
      "cell_type": "markdown",
      "metadata": {
        "id": "jbw6KndNtm43"
      },
      "source": [
        "Now we are done."
      ]
    },
    {
      "cell_type": "markdown",
      "metadata": {
        "id": "JQX2ak-jtm43"
      },
      "source": [
        "You see, we don't even need to install a library or package to train a domain adaptation or finetune model.\n",
        "In your own work, you can also use this notebook to test your own algorithms."
      ]
    }
  ]
}